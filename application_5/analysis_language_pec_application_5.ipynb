{
 "cells": [
  {
   "cell_type": "code",
   "execution_count": null,
   "id": "8a1aaac5",
   "metadata": {},
   "outputs": [],
   "source": [
    "\n",
    "from collections import Counter\n",
    "\n",
    "from matplotlib import pyplot as plt\n",
    "from nltk.corpus import stopwords\n",
    "from pymorphy2.tokenizers import simple_word_tokenize\n",
    "from pymystem3 import Mystem\n",
    "from tqdm import tqdm\n",
    "from wordcloud import WordCloud\n",
    "\n",
    "import nltk\n",
    "nltk.download('stopwords')\n",
    "stops = stopwords.words(\"russian\")\n",
    "meaningful_pos = [\"A\", \"ADV\", \"S\", \"V\"]\n",
    "mystem = Mystem()\n",
    "\n",
    "\n",
    "def parse_lines(lines, mystem, stops):\n",
    "    ready_lines = []\n",
    "    for line in lines:\n",
    "        good_tokens = []\n",
    "\n",
    "        for word_analysis in mystem.analyze(line):\n",
    "            if word_analysis.get(\"analysis\"):\n",
    "                lemma = word_analysis[\"analysis\"][0][\"lex\"]\n",
    "                pos = word_analysis[\"analysis\"][0][\"gr\"].split(\"=\")[0].split(\",\")[0]\n",
    "                if (lemma not in stops) and (pos in meaningful_pos):\n",
    "                    good_tokens.append(lemma)\n",
    "        if good_tokens:\n",
    "            ready_lines.append(\" \".join(good_tokens))\n",
    "    return ready_lines\n",
    "\n",
    "with open(\"C:/Users/Айгуль/PycharmProjects/\"\n",
    "          \"Project_dep_1/project_data_in/rbc_data.txt\", \"r\", encoding=\"utf-8\") as f_pos:\n",
    "    pos_lines = parse_lines(f_pos.readlines(), mystem, stops)\n",
    "\n",
    "\n",
    "positive_c = Counter()\n",
    "\n",
    "for line in tqdm(pos_lines):\n",
    "    tokens = simple_word_tokenize(line)\n",
    "    positive_c.update(tokens)\n",
    "\n",
    "\n",
    "# positive_c.most_common(100)\n",
    "\n",
    "wordcloud = WordCloud(background_color=\"white\").generate(\" \".join(pos_lines))\n",
    "wordcloud = wordcloud.to_file('C:/Users/Айгуль/PycharmProjects/Project_dep_1/images/.wordcloud.png')\n",
    "\n",
    "plt.imshow(wordcloud, interpolation=\"bilinear\")\n",
    "plt.axis(\"off\")\n",
    "plt.savefig(\"C:/Users/Айгуль/PycharmProjects/Project_dep_1/images/wordcloud_negative.png\")\n"
   ]
  }
 ],
 "metadata": {
  "kernelspec": {
   "display_name": "Python 3 (ipykernel)",
   "language": "python",
   "name": "python3"
  },
  "language_info": {
   "codemirror_mode": {
    "name": "ipython",
    "version": 3
   },
   "file_extension": ".py",
   "mimetype": "text/x-python",
   "name": "python",
   "nbconvert_exporter": "python",
   "pygments_lexer": "ipython3",
   "version": "3.9.7"
  }
 },
 "nbformat": 4,
 "nbformat_minor": 5
}
